{
  "nbformat": 4,
  "nbformat_minor": 0,
  "metadata": {
    "colab": {
      "provenance": []
    },
    "kernelspec": {
      "name": "python3",
      "display_name": "Python 3"
    },
    "language_info": {
      "name": "python"
    }
  },
  "cells": [
    {
      "cell_type": "markdown",
      "metadata": {
        "id": "09b9a90e"
      },
      "source": [
        "# Regular expression or pattern matching"
      ]
    },
    {
      "cell_type": "markdown",
      "metadata": {
        "id": "c0d900f1"
      },
      "source": [
        "A regular expression (or RE) specifies a set of strings that matches it; the functions in this module let you check if a particular string matches a given regular expression (or if a given regular expression matches a particular string, which comes down to the same thing).\n",
        "\n",
        "https://docs.python.org/3/library/re.html\n",
        "\n",
        "https://www.w3schools.com/python/python_regex.asp\n",
        "\n",
        "https://regex101.com/"
      ]
    },
    {
      "cell_type": "markdown",
      "metadata": {
        "id": "29a2a945"
      },
      "source": [
        "## Metacharacters"
      ]
    },
    {
      "cell_type": "markdown",
      "metadata": {
        "id": "672cde24"
      },
      "source": [
        "| Charatcer | Description | Example |\n",
        "| ---------|--------------|---------|\n",
        "|[ ] | A set of characters | [2-5] |\n",
        "|{ } | Exactly the specified number of occurrences | Sa.{4}p |\n",
        "|{ } | Exactly the specified number of occurrences | Sa.{4}p |\n",
        "| \\ | Signals a special sequence | \\d|\n",
        "|.\t|Any character (except newline character)|\t\"Sa....p\"|\n",
        "|^|Starts with|^Hi|\n",
        "|I| Either or |\"AIB\"|\n",
        "|+|One or more occurence|\"he.+o|\n",
        "\n"
      ]
    },
    {
      "cell_type": "markdown",
      "source": [
        "## **compile**\n",
        "\n",
        "Compiling regular expression objects is useful and efficient when the expression will be used several times in a single program."
      ],
      "metadata": {
        "id": "Sko_Y-OfkcjF"
      }
    },
    {
      "cell_type": "markdown",
      "source": [
        "## **match**\n",
        "\n",
        "match() function of re in Python will search the regular expression pattern and return the first occurrence."
      ],
      "metadata": {
        "id": "Un0sAbptoVkb"
      }
    },
    {
      "cell_type": "code",
      "execution_count": null,
      "metadata": {
        "colab": {
          "base_uri": "https://localhost:8080/"
        },
        "id": "505ec4b4",
        "outputId": "4d7c69b8-1e74-4bbb-d2dd-bdd03f7dfc5e"
      },
      "outputs": [
        {
          "output_type": "stream",
          "name": "stdout",
          "text": [
            "re.compile('[\\\\w]*')\n",
            "<re.Match object; span=(0, 4), match='DS17'>\n"
          ]
        }
      ],
      "source": [
        "import re\n",
        "DS17 = \"DS17 is in the Fourth Week of Python\"\n",
        "\n",
        "\n",
        "compiled_pat = re.compile(\"[\\w]*\")\n",
        "print(compiled_pat)\n",
        "result = compiled_pat.match(DS17)\n",
        "print(result)\n"
      ]
    },
    {
      "cell_type": "markdown",
      "metadata": {
        "id": "df303bea"
      },
      "source": [
        "### **findall**"
      ]
    },
    {
      "cell_type": "code",
      "source": [
        "DS17 = \"DS17, is in the Fourth Week of Python\"\n",
        "\n",
        "# The findall() function returns a list containing all matches.\n",
        "x = re.findall(\",\", DS17) # here A-Z means A to Z \n",
        "print(x)\n"
      ],
      "metadata": {
        "colab": {
          "base_uri": "https://localhost:8080/"
        },
        "id": "aY2CHVQRldTM",
        "outputId": "784a8b89-b886-477c-de56-e53ab2b88bfb"
      },
      "execution_count": null,
      "outputs": [
        {
          "output_type": "stream",
          "name": "stdout",
          "text": [
            "[',']\n"
          ]
        }
      ]
    },
    {
      "cell_type": "code",
      "execution_count": null,
      "metadata": {
        "id": "26609512"
      },
      "outputs": [],
      "source": [
        "print(re.findall(\"[Z]\", DS17))"
      ]
    },
    {
      "cell_type": "code",
      "execution_count": null,
      "metadata": {
        "colab": {
          "base_uri": "https://localhost:8080/"
        },
        "id": "dbe1ea0a",
        "outputId": "e2c704e4-9c6b-44b0-da5e-592de90549a3"
      },
      "outputs": [
        {
          "output_type": "stream",
          "name": "stdout",
          "text": [
            "['1', '7', ',', ' ', 'i', 's', ' ', 'i', 'n', ' ', 't', 'h', 'e', ' ', 'o', 'u', 'r', 't', 'h', ' ', 'e', 'e', 'k', ' ', 'o', 'f', ' ', 'y', 't', 'h', 'o', 'n']\n"
          ]
        }
      ],
      "source": [
        "print(re.findall(\"[^A-Z]\", DS17)) # ^ means any character except A-Z"
      ]
    },
    {
      "cell_type": "code",
      "execution_count": null,
      "metadata": {
        "colab": {
          "base_uri": "https://localhost:8080/"
        },
        "id": "a6cc343f",
        "outputId": "c9cb6a0d-cb7b-490a-8215-2573feb9b342"
      },
      "outputs": [
        {
          "output_type": "stream",
          "name": "stdout",
          "text": [
            "No match\n"
          ]
        }
      ],
      "source": [
        "DS15 = \"DS15 is in the Third Week of Python\"\n",
        "#Check if the string starts with 'Batch number':\n",
        "\n",
        "x = re.findall(\"^DS\", DS15) # Starts with DS\n",
        "if x:\n",
        "  print(\"Yes, the string starts with 'batch number'\")\n",
        "else:\n",
        "  print(\"No match\")\n"
      ]
    },
    {
      "cell_type": "code",
      "execution_count": null,
      "metadata": {
        "colab": {
          "base_uri": "https://localhost:8080/"
        },
        "id": "4835056b",
        "outputId": "428e1a10-717b-4081-af6c-71ef2f94ec21"
      },
      "outputs": [
        {
          "output_type": "stream",
          "name": "stdout",
          "text": [
            "Yes, the string ends with '.'\n"
          ]
        }
      ],
      "source": [
        "DS15 = \"DS15 is in the Third Week of Python.\"\n",
        "#Check if the string ends with 'Batch number':\n",
        "\n",
        "x = re.findall(\"Python$\", DS15) # end with Python\n",
        "if x:\n",
        "  print(\"Yes, the string ends with '.'\")\n",
        "else:\n",
        "  print(\"No match\")\n"
      ]
    },
    {
      "cell_type": "markdown",
      "metadata": {
        "id": "7b6091ae"
      },
      "source": [
        "### Search"
      ]
    },
    {
      "cell_type": "code",
      "execution_count": null,
      "metadata": {
        "colab": {
          "base_uri": "https://localhost:8080/"
        },
        "id": "5128ddbd",
        "outputId": "53eb8e3e-88b1-44c6-f0bb-8e90281647aa"
      },
      "outputs": [
        {
          "output_type": "stream",
          "name": "stdout",
          "text": [
            "<re.Match object; span=(25, 33), match='GCGCGCGC'>\n"
          ]
        }
      ],
      "source": [
        "Gene_Seq = \"ATGCGCCTACAATCGGTACGTCATCGCGCGCGCTTAC\"\n",
        "\n",
        "# The search() function searches the string for a match, and returns a Match object if there is a match.\n",
        "print(re.search(\"GCGCGCGC\", Gene_Seq)) #"
      ]
    },
    {
      "cell_type": "code",
      "execution_count": null,
      "metadata": {
        "id": "17cdeb8b",
        "outputId": "2a6599e0-31c7-4413-ae0a-f7a4e908241b",
        "colab": {
          "base_uri": "https://localhost:8080/"
        }
      },
      "outputs": [
        {
          "output_type": "stream",
          "name": "stdout",
          "text": [
            "['GCGCGCGCT']\n"
          ]
        }
      ],
      "source": [
        "Gene_Seq = \"ATGCGCCTACAATCGGTACGTCATCGCGCGCGCTTAC\"\n",
        "\n",
        "# The search() function searches the string for a match, and returns a Match object if there is a match.\n",
        "print(re.findall(\"GCGCG.+GCT\", Gene_Seq)) # string starts with GCGCG and ends with GCT"
      ]
    },
    {
      "cell_type": "markdown",
      "metadata": {
        "id": "153bd022"
      },
      "source": [
        "### Span"
      ]
    },
    {
      "cell_type": "code",
      "execution_count": null,
      "metadata": {
        "colab": {
          "base_uri": "https://localhost:8080/"
        },
        "id": "c68cbfe5",
        "outputId": "f0fe7fea-1880-4760-90c9-7c76ccd91d1f"
      },
      "outputs": [
        {
          "output_type": "stream",
          "name": "stdout",
          "text": [
            "<re.Match object; span=(5, 11), match='course'>\n",
            "(5, 11)\n"
          ]
        }
      ],
      "source": [
        "Text = \"This course is Python\"\n",
        "\n",
        "# returns a tuple containing the start-, and end positions of the match\n",
        "x = re.search(r\"\\bc\\w+\", Text) #\n",
        "\n",
        "print(x)\n",
        "print(x.span()) #  returns a tuple containing the start-, and end positions of the match."
      ]
    },
    {
      "cell_type": "code",
      "execution_count": null,
      "metadata": {
        "id": "9eb73c18",
        "outputId": "b78143e1-66fd-4c47-f73b-610fb952deb8",
        "colab": {
          "base_uri": "https://localhost:8080/"
        }
      },
      "outputs": [
        {
          "output_type": "stream",
          "name": "stdout",
          "text": [
            "This course is Python\n"
          ]
        }
      ],
      "source": [
        "Text = \"This course is Python\"\n",
        "\n",
        "# The search() function searches the string for a match, and returns a Match object if there is a match.\n",
        "x = re.search(r\"\\bP\\w+\", Text)\n",
        "print(x.string) #  returns the string passed into the function"
      ]
    },
    {
      "cell_type": "markdown",
      "metadata": {
        "id": "569e60c8"
      },
      "source": [
        "### group"
      ]
    },
    {
      "cell_type": "code",
      "execution_count": null,
      "metadata": {
        "colab": {
          "base_uri": "https://localhost:8080/"
        },
        "id": "6f8c82b6",
        "outputId": "a2c56115-895e-4b2e-fc67-96ca503918bf"
      },
      "outputs": [
        {
          "output_type": "stream",
          "name": "stdout",
          "text": [
            "<re.Match object; span=(22, 33), match='programming'>\n",
            "programming\n"
          ]
        }
      ],
      "source": [
        "Text = \"This course is Python programming\"\n",
        "\n",
        "# The search() function searches the string for a match, and returns a Match object if there is a match.\n",
        "x = re.search(r\"\\bp\\w+\", Text) # Start with P and then any number alphabets of string\n",
        "print(x)\n",
        "print(x.group()) # returns the part of the string where there was a match"
      ]
    },
    {
      "cell_type": "code",
      "execution_count": null,
      "metadata": {
        "colab": {
          "base_uri": "https://localhost:8080/"
        },
        "id": "c2576a95",
        "outputId": "f6d8ad63-dad5-467d-c103-8b38a40b6d4b"
      },
      "outputs": [
        {
          "output_type": "stream",
          "name": "stdout",
          "text": [
            "('bc', 'b')\n"
          ]
        }
      ],
      "source": [
        "print(re.search(\"((a|b)c)\",\"bcaac\").groups())"
      ]
    },
    {
      "cell_type": "markdown",
      "metadata": {
        "id": "b1128b04"
      },
      "source": [
        "### split"
      ]
    },
    {
      "cell_type": "code",
      "execution_count": null,
      "metadata": {
        "id": "5aedbae3",
        "outputId": "9560b603-2612-4ec0-c39e-42fc4e25ba84",
        "colab": {
          "base_uri": "https://localhost:8080/"
        }
      },
      "outputs": [
        {
          "output_type": "stream",
          "name": "stdout",
          "text": [
            "['There are ', ' students in DS15 batch.']\n"
          ]
        }
      ],
      "source": [
        "Information = \"There are 60 students in DS15 batch.\"\n",
        "\n",
        "print(Information.split('60')) # here I want to split them using number"
      ]
    },
    {
      "cell_type": "code",
      "execution_count": null,
      "metadata": {
        "id": "835870b1",
        "outputId": "ed3c78a9-7062-4e3e-fad5-8f7b3cfd984c",
        "colab": {
          "base_uri": "https://localhost:8080/"
        }
      },
      "outputs": [
        {
          "output_type": "stream",
          "name": "stdout",
          "text": [
            "['There are ', '', ' students in DS', '', ' batch.']\n"
          ]
        }
      ],
      "source": [
        "# The split() function returns a list where the string has been split at each match:\n",
        "print(re.split(\"\\d\", Information)) # It splitted both numbers"
      ]
    },
    {
      "cell_type": "code",
      "execution_count": null,
      "metadata": {
        "colab": {
          "base_uri": "https://localhost:8080/"
        },
        "id": "6d27fa7e",
        "outputId": "c811c66f-3e7b-41e9-8e36-a06a848cd668"
      },
      "outputs": [
        {
          "output_type": "stream",
          "name": "stdout",
          "text": [
            "['10', '04', '2022']\n"
          ]
        }
      ],
      "source": [
        "Date = \"10-04-2022\"\n",
        "result = re.split(\"\\D\", Date, maxsplit=2) # maxsplit tells how many splits you want\n",
        "# r for new string\n",
        "# \\D is for non disgit characterstics\n",
        "print(result)"
      ]
    },
    {
      "cell_type": "markdown",
      "metadata": {
        "id": "7ec4c2b9"
      },
      "source": [
        "### sub"
      ]
    },
    {
      "cell_type": "code",
      "execution_count": null,
      "metadata": {
        "id": "22d74fc0",
        "outputId": "9aa7e346-6467-4f3f-a19d-c39d7a600032",
        "colab": {
          "base_uri": "https://localhost:8080/"
        }
      },
      "outputs": [
        {
          "output_type": "stream",
          "name": "stdout",
          "text": [
            "ATGCGCGTACAATCGGTACGTCATCATTACHEDCTTAC\n"
          ]
        }
      ],
      "source": [
        " # The sub() function replaces the matches with the text of your choice:\n",
        "Gene_Seq = \"ATGCGCGTACAATCGGTACGTCATCGCGCGCGCTTAC\"\n",
        "\n",
        "#  replaces the matches with the text of your choice:\n",
        "print(re.sub(\"GCGCGCG\", \"ATTACHED\", Gene_Seq)) #"
      ]
    }
  ]
}