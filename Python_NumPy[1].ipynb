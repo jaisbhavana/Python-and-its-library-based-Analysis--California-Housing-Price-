{
  "nbformat": 4,
  "nbformat_minor": 0,
  "metadata": {
    "colab": {
      "provenance": []
    },
    "kernelspec": {
      "name": "python3",
      "display_name": "Python 3"
    },
    "language_info": {
      "name": "python"
    }
  },
  "cells": [
    {
      "cell_type": "markdown",
      "metadata": {
        "id": "jn6GoDcH9C-H"
      },
      "source": [
        "# NumPy"
      ]
    },
    {
      "cell_type": "markdown",
      "metadata": {
        "id": "faSehF219C-M"
      },
      "source": [
        "- **Numerical python**\n",
        "- Geometrical, calculus, arithmatic\n",
        "- Collection of similar classes\n",
        "- Classes are collection of similar variables and methods\n",
        "- Performing numerical operations in python\n"
      ]
    },
    {
      "cell_type": "markdown",
      "metadata": {
        "id": "o4hnMVQ09C-N"
      },
      "source": [
        "- **Saving Code time**\n",
        "- **No for loops**\n",
        "- **Faster Execution**\n",
        "- **Uses less memory over list**"
      ]
    },
    {
      "cell_type": "code",
      "execution_count": null,
      "metadata": {
        "colab": {
          "base_uri": "https://localhost:8080/"
        },
        "id": "appl4O3K9C-O",
        "outputId": "f618ca62-9e0a-49ee-f34b-1a28dcca418c"
      },
      "outputs": [
        {
          "output_type": "stream",
          "name": "stdout",
          "text": [
            "[1, 2, 3, 4, 10, 11, 12, 13]\n"
          ]
        }
      ],
      "source": [
        "# Adding 2 lists\n",
        "a = [1, 2, 3, 4] # a is a list\n",
        "b = [10, 11, 12, 13] # b is a list\n",
        "\n",
        "# both lists have same length\n",
        "# now we want to add these two lists, element by element\n",
        "print(a + b)\n"
      ]
    },
    {
      "cell_type": "markdown",
      "metadata": {
        "id": "zBlqadUG9C-Q"
      },
      "source": [
        "#### Elementwise operations"
      ]
    },
    {
      "cell_type": "code",
      "execution_count": null,
      "metadata": {
        "id": "NrKygGHQ9C-Q",
        "outputId": "708a91c1-b5cc-401e-f259-faa262834806"
      },
      "outputs": [
        {
          "name": "stdout",
          "output_type": "stream",
          "text": [
            "11\n",
            "13\n",
            "15\n",
            "17\n"
          ]
        }
      ],
      "source": [
        "## rather than adding them together it concatenated it\n",
        "## so to add them together we have to write a for loop\n",
        "for item1, item2 in zip(a, b):\n",
        "    c = item1 + item2\n",
        "    print (c)\n"
      ]
    },
    {
      "cell_type": "markdown",
      "metadata": {
        "id": "pEBdS8oX9C-R"
      },
      "source": [
        "### Data structures\n",
        "- Scalar\n",
        "- Vector\n",
        "- Arrays \n",
        "- Matrix (built in)\n",
        "\n",
        "#### Arrays:\n",
        "A Python Array is a collection of common type of data structures having elements with same data type. It is used to store collections of data. In Python programming, an arrays are handled by the “array” module. If you create arrays using the array module, elements of the array must be of the same numeric type.\n",
        "\n",
        "NumPy is used for working with an array."
      ]
    },
    {
      "cell_type": "code",
      "execution_count": null,
      "metadata": {
        "id": "OU9x--Ea9C-T"
      },
      "outputs": [],
      "source": [
        "!conda list # packages are in inactive mode as they will take so much space"
      ]
    },
    {
      "cell_type": "markdown",
      "metadata": {
        "id": "ScjUhe4U9C-T"
      },
      "source": [
        "## Importing libraries\n",
        "\n",
        "- We can not just import libraries and call them directly as some libraries names are big\n",
        "- Hence, we use alias such as np for numpy (conventional way)"
      ]
    },
    {
      "cell_type": "code",
      "execution_count": null,
      "metadata": {
        "id": "D82eCaLl9C-U"
      },
      "outputs": [],
      "source": [
        "import numpy as np"
      ]
    },
    {
      "cell_type": "markdown",
      "metadata": {
        "id": "uLaIYmK89C-U"
      },
      "source": [
        "### Scalar"
      ]
    },
    {
      "cell_type": "code",
      "execution_count": null,
      "metadata": {
        "id": "iHYqrgxc9C-U"
      },
      "outputs": [],
      "source": [
        "a = np.array(5)"
      ]
    },
    {
      "cell_type": "code",
      "execution_count": null,
      "metadata": {
        "colab": {
          "base_uri": "https://localhost:8080/"
        },
        "id": "fD3g2DrS9C-V",
        "outputId": "e47194b5-62b1-46fd-b4ee-9afad1d96ac9"
      },
      "outputs": [
        {
          "output_type": "execute_result",
          "data": {
            "text/plain": [
              "0"
            ]
          },
          "metadata": {},
          "execution_count": 4
        }
      ],
      "source": [
        "a.ndim # number of dimensions"
      ]
    },
    {
      "cell_type": "markdown",
      "metadata": {
        "id": "54KqdheI9C-V"
      },
      "source": [
        "### Vector"
      ]
    },
    {
      "cell_type": "code",
      "execution_count": null,
      "metadata": {
        "colab": {
          "base_uri": "https://localhost:8080/"
        },
        "id": "6P9p6psJ9C-V",
        "outputId": "aef18eff-14e3-4c35-8818-c94e9170bb34"
      },
      "outputs": [
        {
          "output_type": "stream",
          "name": "stdout",
          "text": [
            "[1 2 3]\n"
          ]
        }
      ],
      "source": [
        "a = np.array([1, 2, 3])\n",
        "print(a)"
      ]
    },
    {
      "cell_type": "code",
      "execution_count": null,
      "metadata": {
        "colab": {
          "base_uri": "https://localhost:8080/"
        },
        "id": "ctS2fCBl9C-W",
        "outputId": "8c11ef8b-3904-42f4-d3ef-879839a0177d"
      },
      "outputs": [
        {
          "output_type": "execute_result",
          "data": {
            "text/plain": [
              "1"
            ]
          },
          "metadata": {},
          "execution_count": 6
        }
      ],
      "source": [
        "a.ndim"
      ]
    },
    {
      "cell_type": "code",
      "execution_count": null,
      "metadata": {
        "id": "jqMQ7I2B9C-W",
        "outputId": "2cd8a702-077c-4d80-c3cc-96844b3d7ad4"
      },
      "outputs": [
        {
          "name": "stdout",
          "output_type": "stream",
          "text": [
            "[[1]\n",
            " [2]\n",
            " [3]]\n"
          ]
        }
      ],
      "source": [
        "a = np.array([[1, 2, 3]])\n",
        "print(a.T) # T is used to transpose the vector"
      ]
    },
    {
      "cell_type": "code",
      "source": [],
      "metadata": {
        "id": "B5I7-C1yZl_w"
      },
      "execution_count": null,
      "outputs": []
    },
    {
      "cell_type": "markdown",
      "source": [
        "### Matrix"
      ],
      "metadata": {
        "id": "zhcRyrwi0Jay"
      }
    },
    {
      "cell_type": "code",
      "source": [
        "# now we are creating two dimensional array\n",
        "a = np.array([[1, 2, 3], [4, 5, 6], [7, 8, 9]])\n",
        "print(a)"
      ],
      "metadata": {
        "colab": {
          "base_uri": "https://localhost:8080/"
        },
        "id": "bqSncDce0IE3",
        "outputId": "cc027155-ac23-4dbb-ea04-cc7e749e50e4"
      },
      "execution_count": null,
      "outputs": [
        {
          "output_type": "stream",
          "name": "stdout",
          "text": [
            "[[1 2 3]\n",
            " [4 5 6]\n",
            " [7 8 9]]\n"
          ]
        }
      ]
    },
    {
      "cell_type": "code",
      "source": [
        "a.ndim"
      ],
      "metadata": {
        "colab": {
          "base_uri": "https://localhost:8080/"
        },
        "id": "MQKBevzr0W5r",
        "outputId": "eb8f9048-dad3-4cd9-a538-9844f16d5f39"
      },
      "execution_count": null,
      "outputs": [
        {
          "output_type": "execute_result",
          "data": {
            "text/plain": [
              "2"
            ]
          },
          "metadata": {},
          "execution_count": 36
        }
      ]
    },
    {
      "cell_type": "code",
      "source": [
        "# now we are creating two dimensional array\n",
        "a = np.matrix([(1, 2, 3), (4, 5, 6)])\n",
        "print(a)\n"
      ],
      "metadata": {
        "colab": {
          "base_uri": "https://localhost:8080/"
        },
        "id": "UVIUzcsS0ZoH",
        "outputId": "6213a42f-50d5-4df0-94fe-a404e59d5dc7"
      },
      "execution_count": null,
      "outputs": [
        {
          "output_type": "stream",
          "name": "stdout",
          "text": [
            "[[1 2 3]\n",
            " [4 5 6]]\n"
          ]
        }
      ]
    },
    {
      "cell_type": "code",
      "source": [
        "type(a)"
      ],
      "metadata": {
        "colab": {
          "base_uri": "https://localhost:8080/"
        },
        "id": "b7B5iu1sSUzj",
        "outputId": "ba891a6b-d7b7-4e75-e0cd-506c70c1211e"
      },
      "execution_count": null,
      "outputs": [
        {
          "output_type": "execute_result",
          "data": {
            "text/plain": [
              "numpy.ndarray"
            ]
          },
          "metadata": {},
          "execution_count": 37
        }
      ]
    },
    {
      "cell_type": "markdown",
      "source": [
        "### shape"
      ],
      "metadata": {
        "id": "v34yx_4kSqk7"
      }
    },
    {
      "cell_type": "code",
      "source": [
        "a = np.matrix([(1, 2, 3), (4, 5, 6)])\n",
        "print(a)\n",
        "a.shape # shape function is used to examine the number of rows and columns"
      ],
      "metadata": {
        "colab": {
          "base_uri": "https://localhost:8080/"
        },
        "id": "T-yKbAVbSkP8",
        "outputId": "c7204eed-8412-434f-ca2c-2601e3229e24"
      },
      "execution_count": null,
      "outputs": [
        {
          "output_type": "stream",
          "name": "stdout",
          "text": [
            "[[1 2 3]\n",
            " [4 5 6]]\n"
          ]
        },
        {
          "output_type": "execute_result",
          "data": {
            "text/plain": [
              "(2, 3)"
            ]
          },
          "metadata": {},
          "execution_count": 38
        }
      ]
    },
    {
      "cell_type": "markdown",
      "source": [
        "### Array of zeros"
      ],
      "metadata": {
        "id": "aRgiYZWvS4wh"
      }
    },
    {
      "cell_type": "code",
      "source": [
        "np.zeros(4) # array having value 4 zeros "
      ],
      "metadata": {
        "colab": {
          "base_uri": "https://localhost:8080/"
        },
        "id": "YKJAQNsCStY9",
        "outputId": "5e502d7a-ca77-487e-db70-64b1bb43bb3f"
      },
      "execution_count": null,
      "outputs": [
        {
          "output_type": "execute_result",
          "data": {
            "text/plain": [
              "array([0., 0., 0., 0.])"
            ]
          },
          "metadata": {},
          "execution_count": 39
        }
      ]
    },
    {
      "cell_type": "code",
      "source": [
        "np.zeros((3,4)) # array having value zero with three rows and four columns"
      ],
      "metadata": {
        "colab": {
          "base_uri": "https://localhost:8080/"
        },
        "id": "rVeui8VZTAv4",
        "outputId": "e3f420cf-8480-4c5d-c28f-0ca5ad03e0b5"
      },
      "execution_count": null,
      "outputs": [
        {
          "output_type": "execute_result",
          "data": {
            "text/plain": [
              "array([[0., 0., 0., 0.],\n",
              "       [0., 0., 0., 0.],\n",
              "       [0., 0., 0., 0.]])"
            ]
          },
          "metadata": {},
          "execution_count": 40
        }
      ]
    },
    {
      "cell_type": "markdown",
      "source": [
        "### Array of ones"
      ],
      "metadata": {
        "id": "Slos7JTlTJjy"
      }
    },
    {
      "cell_type": "code",
      "source": [
        "np.ones(7,dtype=np.int32)"
      ],
      "metadata": {
        "colab": {
          "base_uri": "https://localhost:8080/"
        },
        "id": "FosIAUD7THaT",
        "outputId": "a4b64cf3-a0a3-4672-8ca1-86e21ad16e3f"
      },
      "execution_count": null,
      "outputs": [
        {
          "output_type": "execute_result",
          "data": {
            "text/plain": [
              "array([1, 1, 1, 1, 1, 1, 1], dtype=int32)"
            ]
          },
          "metadata": {},
          "execution_count": 41
        }
      ]
    },
    {
      "cell_type": "code",
      "source": [
        "# Create a multidimensional array of 1\n",
        "def add(a,b):\n",
        "  return(a+b)\n",
        "\n",
        "print(add(2,3))\n",
        "\n",
        "getinput()\n",
        "processdata()\n",
        "result()\n",
        "\n",
        "\n",
        "add()\n",
        "  add()\n"
      ],
      "metadata": {
        "id": "sjqfBgtHTdPq",
        "colab": {
          "base_uri": "https://localhost:8080/"
        },
        "outputId": "7ecde746-5da7-42bb-f7d7-d0d061f94026"
      },
      "execution_count": null,
      "outputs": [
        {
          "output_type": "stream",
          "name": "stdout",
          "text": [
            "5\n"
          ]
        }
      ]
    },
    {
      "cell_type": "code",
      "source": [
        "def factorial(n):\n",
        "  if(n==0 or n==1):\n",
        "    return 1\n",
        "  elif n >0:\n",
        "    return n*factorial(n-1)\n",
        "  \n",
        "print(factorial(5))"
      ],
      "metadata": {
        "colab": {
          "base_uri": "https://localhost:8080/"
        },
        "id": "2SDQBFJ9avwB",
        "outputId": "c7fb85f3-b7cb-45d1-b617-ce9e21bb257d"
      },
      "execution_count": null,
      "outputs": [
        {
          "output_type": "stream",
          "name": "stdout",
          "text": [
            "120\n"
          ]
        }
      ]
    },
    {
      "cell_type": "markdown",
      "source": [
        "### Array of constant"
      ],
      "metadata": {
        "id": "1J-MNXBjT3BM"
      }
    },
    {
      "cell_type": "code",
      "source": [
        "np.full((4, 3), 0) # here 4 is no of rows, 3 is no of columns and 10 is a constant value."
      ],
      "metadata": {
        "colab": {
          "base_uri": "https://localhost:8080/"
        },
        "id": "oQW1TLa_TkB1",
        "outputId": "6457f66b-2699-47f7-ed3f-a4b840b7bd03"
      },
      "execution_count": null,
      "outputs": [
        {
          "output_type": "execute_result",
          "data": {
            "text/plain": [
              "array([[0, 0, 0],\n",
              "       [0, 0, 0],\n",
              "       [0, 0, 0],\n",
              "       [0, 0, 0]])"
            ]
          },
          "metadata": {},
          "execution_count": 45
        }
      ]
    },
    {
      "cell_type": "markdown",
      "source": [
        "### arange"
      ],
      "metadata": {
        "id": "b6TC1p6qUDym"
      }
    },
    {
      "cell_type": "code",
      "source": [
        "a = np.arange(24, dtype = float) # similar to range function\n",
        "print(a.dtype)\n",
        "print(a)"
      ],
      "metadata": {
        "colab": {
          "base_uri": "https://localhost:8080/"
        },
        "id": "qZsTHzqvT_S6",
        "outputId": "727a580f-c455-492e-c3dd-1591167c84d8"
      },
      "execution_count": null,
      "outputs": [
        {
          "output_type": "stream",
          "name": "stdout",
          "text": [
            "float64\n",
            "[ 0.  1.  2.  3.  4.  5.  6.  7.  8.  9. 10. 11. 12. 13. 14. 15. 16. 17.\n",
            " 18. 19. 20. 21. 22. 23.]\n"
          ]
        }
      ]
    },
    {
      "cell_type": "code",
      "source": [
        "np.arange(10, 75) # similar to range function"
      ],
      "metadata": {
        "colab": {
          "base_uri": "https://localhost:8080/"
        },
        "id": "7nTkfw7aULzq",
        "outputId": "c6fb545c-8a31-4c91-8ec6-46abb3117913"
      },
      "execution_count": null,
      "outputs": [
        {
          "output_type": "execute_result",
          "data": {
            "text/plain": [
              "array([10, 11, 12, 13, 14, 15, 16, 17, 18, 19, 20, 21, 22, 23, 24, 25, 26,\n",
              "       27, 28, 29, 30, 31, 32, 33, 34, 35, 36, 37, 38, 39, 40, 41, 42, 43,\n",
              "       44, 45, 46, 47, 48, 49, 50, 51, 52, 53, 54, 55, 56, 57, 58, 59, 60,\n",
              "       61, 62, 63, 64, 65, 66, 67, 68, 69, 70, 71, 72, 73, 74])"
            ]
          },
          "metadata": {},
          "execution_count": 47
        }
      ]
    },
    {
      "cell_type": "code",
      "source": [
        "np.arange(10, 75, 5) # similar to range function"
      ],
      "metadata": {
        "colab": {
          "base_uri": "https://localhost:8080/"
        },
        "id": "BOSYSr63UMZV",
        "outputId": "26c98bb1-1a87-418d-820f-62613c669d4e"
      },
      "execution_count": null,
      "outputs": [
        {
          "output_type": "execute_result",
          "data": {
            "text/plain": [
              "array([10, 15, 20, 25, 30, 35, 40, 45, 50, 55, 60, 65, 70])"
            ]
          },
          "metadata": {},
          "execution_count": 48
        }
      ]
    },
    {
      "cell_type": "markdown",
      "source": [
        "### arrange z nos btwn x & y"
      ],
      "metadata": {
        "id": "Qaf09eeDUbha"
      }
    },
    {
      "cell_type": "code",
      "source": [
        "np.linspace(5,10, 4) # here create 4 different data points between 5 and 10 with equal gap\n"
      ],
      "metadata": {
        "colab": {
          "base_uri": "https://localhost:8080/"
        },
        "id": "bPni_Dc1UdIZ",
        "outputId": "3bd01930-c9a8-4daf-f372-b999177b8a63"
      },
      "execution_count": null,
      "outputs": [
        {
          "output_type": "execute_result",
          "data": {
            "text/plain": [
              "array([ 5.        ,  6.66666667,  8.33333333, 10.        ])"
            ]
          },
          "metadata": {},
          "execution_count": 49
        }
      ]
    },
    {
      "cell_type": "code",
      "source": [
        "np.linspace(2,10, 3)"
      ],
      "metadata": {
        "colab": {
          "base_uri": "https://localhost:8080/"
        },
        "id": "G2ZoFWWyUqJ6",
        "outputId": "86478506-673f-4e4a-a5b5-b391a563d95a"
      },
      "execution_count": null,
      "outputs": [
        {
          "output_type": "execute_result",
          "data": {
            "text/plain": [
              "array([ 2.,  6., 10.])"
            ]
          },
          "metadata": {},
          "execution_count": 50
        }
      ]
    },
    {
      "cell_type": "markdown",
      "source": [
        "### Random numbers in ndarrays"
      ],
      "metadata": {
        "id": "Ty4cTJ-yU9X3"
      }
    },
    {
      "cell_type": "code",
      "source": [
        "np.random.random((2,2)) # two rows and two columns"
      ],
      "metadata": {
        "colab": {
          "base_uri": "https://localhost:8080/"
        },
        "id": "te4rEitTUrop",
        "outputId": "71f4fd7d-49d5-4b58-8d14-fd540bfd5c59"
      },
      "execution_count": null,
      "outputs": [
        {
          "output_type": "execute_result",
          "data": {
            "text/plain": [
              "array([[0.76353293, 0.06198474],\n",
              "       [0.70168861, 0.14656462]])"
            ]
          },
          "metadata": {},
          "execution_count": 53
        }
      ]
    },
    {
      "cell_type": "code",
      "source": [
        "np.random.random((1,7)) # one row and seven columns"
      ],
      "metadata": {
        "colab": {
          "base_uri": "https://localhost:8080/"
        },
        "id": "Ld5QDLmPVGI_",
        "outputId": "24da2528-e1e6-4820-d053-e8961f5959a4"
      },
      "execution_count": null,
      "outputs": [
        {
          "output_type": "execute_result",
          "data": {
            "text/plain": [
              "array([[0.23065904, 0.93888806, 0.28439255, 0.68676051, 0.52073787,\n",
              "        0.41940376, 0.20995131]])"
            ]
          },
          "metadata": {},
          "execution_count": 54
        }
      ]
    },
    {
      "cell_type": "code",
      "source": [
        "np.random.random((3,3)) # three rows and three columns"
      ],
      "metadata": {
        "colab": {
          "base_uri": "https://localhost:8080/"
        },
        "id": "f-xZfDPgVKjL",
        "outputId": "6aa7ecda-6014-42f0-e8bf-42f043931f08"
      },
      "execution_count": null,
      "outputs": [
        {
          "output_type": "execute_result",
          "data": {
            "text/plain": [
              "array([[0.16579701, 0.48317324, 0.08847372],\n",
              "       [0.34068098, 0.75970421, 0.09233574],\n",
              "       [0.00829749, 0.93214908, 0.46363265]])"
            ]
          },
          "metadata": {},
          "execution_count": 57
        }
      ]
    },
    {
      "cell_type": "markdown",
      "source": [
        "### Identity matrix\n",
        "\n",
        "- An Identity matrix is a square matrix that has 1s along its main diagonal and 0s everywhere else."
      ],
      "metadata": {
        "id": "lGpG-urvVSDi"
      }
    },
    {
      "cell_type": "code",
      "source": [
        "np.eye(4)"
      ],
      "metadata": {
        "colab": {
          "base_uri": "https://localhost:8080/"
        },
        "id": "UpiIXb9qVUc7",
        "outputId": "4167ed7d-f1b6-41aa-86b9-b25dea9fb332"
      },
      "execution_count": null,
      "outputs": [
        {
          "output_type": "execute_result",
          "data": {
            "text/plain": [
              "array([[1., 0., 0., 0.],\n",
              "       [0., 1., 0., 0.],\n",
              "       [0., 0., 1., 0.],\n",
              "       [0., 0., 0., 1.]])"
            ]
          },
          "metadata": {},
          "execution_count": 58
        }
      ]
    },
    {
      "cell_type": "code",
      "source": [
        "np.eye(4, k = 1)"
      ],
      "metadata": {
        "colab": {
          "base_uri": "https://localhost:8080/"
        },
        "id": "hGKzFI0IVXkN",
        "outputId": "b50a36db-bfe7-4e5c-fced-c3e43e9e42cd"
      },
      "execution_count": null,
      "outputs": [
        {
          "output_type": "execute_result",
          "data": {
            "text/plain": [
              "array([[0., 1., 0., 0.],\n",
              "       [0., 0., 1., 0.],\n",
              "       [0., 0., 0., 1.],\n",
              "       [0., 0., 0., 0.]])"
            ]
          },
          "metadata": {},
          "execution_count": 59
        }
      ]
    },
    {
      "cell_type": "markdown",
      "source": [
        "### The Reshaping of NumPy Arrays\n",
        "\n",
        "syntax: np.reshape(array,shape)"
      ],
      "metadata": {
        "id": "TClOn8-pV5ht"
      }
    },
    {
      "cell_type": "code",
      "source": [
        "a = np.array([[2,3,4],[4,5,6]])\n",
        "print(a)\n",
        "a.shape=(3,2)\n",
        "print(a)"
      ],
      "metadata": {
        "colab": {
          "base_uri": "https://localhost:8080/"
        },
        "id": "m4T0nChYVpbH",
        "outputId": "94fb6391-7d87-4502-96e5-4e6621f21bce"
      },
      "execution_count": null,
      "outputs": [
        {
          "output_type": "stream",
          "name": "stdout",
          "text": [
            "[[2 3 4]\n",
            " [4 5 6]]\n",
            "[[2 3]\n",
            " [4 4]\n",
            " [5 6]]\n"
          ]
        }
      ]
    },
    {
      "cell_type": "markdown",
      "source": [
        "### Size of NumPy array"
      ],
      "metadata": {
        "id": "0btRcV2HWMpD"
      }
    },
    {
      "cell_type": "code",
      "source": [
        "a = np.array([[2,3,4],[4,5,6]])\n",
        "print(a)\n",
        "print(a.size) # how many values there are in the array using the size attribute\n"
      ],
      "metadata": {
        "colab": {
          "base_uri": "https://localhost:8080/"
        },
        "id": "t4MVVMvHV-yk",
        "outputId": "b18814f0-cc8a-4005-a410-6bc7acc6e81f"
      },
      "execution_count": null,
      "outputs": [
        {
          "output_type": "stream",
          "name": "stdout",
          "text": [
            "[[2 3 4]\n",
            " [4 5 6]]\n",
            "6\n"
          ]
        }
      ]
    },
    {
      "cell_type": "markdown",
      "source": [
        "### flip"
      ],
      "metadata": {
        "id": "nbGf0vwibc_R"
      }
    },
    {
      "cell_type": "code",
      "source": [
        "a = np.array([[1,2,3,4,5],\n",
        "[6,7,8,9,10]])\n",
        "print('Original array :','\\n',a)\n"
      ],
      "metadata": {
        "colab": {
          "base_uri": "https://localhost:8080/"
        },
        "id": "eU4o--QRbewV",
        "outputId": "43a9879d-9a1d-4535-c123-763a9999c639"
      },
      "execution_count": null,
      "outputs": [
        {
          "output_type": "stream",
          "name": "stdout",
          "text": [
            "Original array : \n",
            " [[ 1  2  3  4  5]\n",
            " [ 6  7  8  9 10]]\n"
          ]
        }
      ]
    },
    {
      "cell_type": "code",
      "source": [
        "print(np.flip(a,axis=1))\n"
      ],
      "metadata": {
        "colab": {
          "base_uri": "https://localhost:8080/"
        },
        "id": "4XPF0L2gbomO",
        "outputId": "5f15f4df-e67a-4484-d937-800eea4389e1"
      },
      "execution_count": null,
      "outputs": [
        {
          "output_type": "stream",
          "name": "stdout",
          "text": [
            "[[ 5  4  3  2  1]\n",
            " [10  9  8  7  6]]\n"
          ]
        }
      ]
    },
    {
      "cell_type": "code",
      "source": [
        "print(np.flip(a,axis=0))\n"
      ],
      "metadata": {
        "colab": {
          "base_uri": "https://localhost:8080/"
        },
        "id": "ISpC9NKWHsly",
        "outputId": "bb16b060-a61e-4100-8ed2-668da0f43377"
      },
      "execution_count": null,
      "outputs": [
        {
          "output_type": "stream",
          "name": "stdout",
          "text": [
            "[[ 6  7  8  9 10]\n",
            " [ 1  2  3  4  5]]\n"
          ]
        }
      ]
    },
    {
      "cell_type": "code",
      "source": [
        "print('Reversed array horizontally :','\\n',np.flip(a,axis=0))"
      ],
      "metadata": {
        "id": "I7K9kUqRbp62"
      },
      "execution_count": null,
      "outputs": []
    },
    {
      "cell_type": "code",
      "source": [
        "a = np.array([[1,2,3,4,5],\n",
        "[6,7,8,9,10]])\n",
        "print('Original array :','\\n',a)\n"
      ],
      "metadata": {
        "id": "mG0RKY1jbzOh"
      },
      "execution_count": null,
      "outputs": []
    },
    {
      "cell_type": "code",
      "source": [
        "print(a[::-1,::-1])"
      ],
      "metadata": {
        "colab": {
          "base_uri": "https://localhost:8080/"
        },
        "id": "667ugbK8b12V",
        "outputId": "3c5c0756-bc88-4e97-bb57-06145a7f71b4"
      },
      "execution_count": null,
      "outputs": [
        {
          "output_type": "stream",
          "name": "stdout",
          "text": [
            "[[10  9  8  7  6]\n",
            " [ 5  4  3  2  1]]\n"
          ]
        }
      ]
    },
    {
      "cell_type": "markdown",
      "source": [
        "### sort"
      ],
      "metadata": {
        "id": "PTplhuQ7dM2C"
      }
    },
    {
      "cell_type": "code",
      "source": [
        "a = np.array([1,4,2,5,3,6,8,7,9])\n",
        "np.sort(a)"
      ],
      "metadata": {
        "colab": {
          "base_uri": "https://localhost:8080/"
        },
        "id": "RodMRAHDdO4U",
        "outputId": "382af3b0-b513-4825-8f7e-94b0e1f1fec1"
      },
      "execution_count": null,
      "outputs": [
        {
          "output_type": "execute_result",
          "data": {
            "text/plain": [
              "array([1, 2, 3, 4, 5, 6, 7, 8, 9])"
            ]
          },
          "metadata": {},
          "execution_count": 71
        }
      ]
    },
    {
      "cell_type": "code",
      "source": [
        "a = np.array([[5,6,7,4],\n",
        "              [9,2,3,7]])# sort along the column\n",
        "\n",
        "print(a)"
      ],
      "metadata": {
        "colab": {
          "base_uri": "https://localhost:8080/"
        },
        "id": "dR2LbTqydXYV",
        "outputId": "fcd3894f-84a2-4a01-cd62-bfeda0e47a10"
      },
      "execution_count": null,
      "outputs": [
        {
          "output_type": "stream",
          "name": "stdout",
          "text": [
            "[[5 6 7 4]\n",
            " [9 2 3 7]]\n"
          ]
        }
      ]
    },
    {
      "cell_type": "code",
      "source": [
        "print(np.sort(a, kind='quicksort',axis=1))"
      ],
      "metadata": {
        "colab": {
          "base_uri": "https://localhost:8080/"
        },
        "id": "IZhQ8Ls0dgzb",
        "outputId": "94bae3db-5f18-4985-a71c-8123d21c29bb"
      },
      "execution_count": null,
      "outputs": [
        {
          "output_type": "stream",
          "name": "stdout",
          "text": [
            "[[1 6]\n",
            " [3 4]]\n"
          ]
        }
      ]
    },
    {
      "cell_type": "code",
      "source": [
        "# sort along the row\n",
        "print(np.sort(a, kind='mergresort',axis=0))"
      ],
      "metadata": {
        "colab": {
          "base_uri": "https://localhost:8080/"
        },
        "id": "VYk-zzxtddUk",
        "outputId": "f13776e6-1df4-47ef-f762-3b707f618027"
      },
      "execution_count": null,
      "outputs": [
        {
          "output_type": "stream",
          "name": "stdout",
          "text": [
            "[[5 2 3 4]\n",
            " [9 6 7 7]]\n"
          ]
        }
      ]
    },
    {
      "cell_type": "markdown",
      "source": [
        "## Basic mathematics using numPy"
      ],
      "metadata": {
        "id": "BmMdF0tCW9PF"
      }
    },
    {
      "cell_type": "code",
      "source": [
        "# Adding 2 lists\n",
        "a = [1, 2, 3, 4] # a is a list\n",
        "b = [10, 11, 12, 13] # b is a list\n",
        "\n",
        "# both lists have same length\n",
        "# now we want to add these two lists, element by element\n",
        "print(a + b)\n"
      ],
      "metadata": {
        "colab": {
          "base_uri": "https://localhost:8080/"
        },
        "id": "9sXmW8RAWSER",
        "outputId": "f46bf023-56a3-44fd-e169-52550cff4d96"
      },
      "execution_count": null,
      "outputs": [
        {
          "output_type": "stream",
          "name": "stdout",
          "text": [
            "[1, 2, 3, 4, 10, 11, 12, 13]\n"
          ]
        }
      ]
    },
    {
      "cell_type": "code",
      "source": [
        "a + 10"
      ],
      "metadata": {
        "colab": {
          "base_uri": "https://localhost:8080/",
          "height": 165
        },
        "id": "N8Tv2KlsXCOm",
        "outputId": "25f73c77-f496-4020-c4e1-08550f88abe6"
      },
      "execution_count": null,
      "outputs": [
        {
          "output_type": "error",
          "ename": "TypeError",
          "evalue": "ignored",
          "traceback": [
            "\u001b[0;31m---------------------------------------------------------------------------\u001b[0m",
            "\u001b[0;31mTypeError\u001b[0m                                 Traceback (most recent call last)",
            "\u001b[0;32m<ipython-input-76-2716b343c107>\u001b[0m in \u001b[0;36m<module>\u001b[0;34m()\u001b[0m\n\u001b[0;32m----> 1\u001b[0;31m \u001b[0ma\u001b[0m \u001b[0;34m+\u001b[0m \u001b[0;36m10\u001b[0m\u001b[0;34m\u001b[0m\u001b[0;34m\u001b[0m\u001b[0m\n\u001b[0m",
            "\u001b[0;31mTypeError\u001b[0m: can only concatenate list (not \"int\") to list"
          ]
        }
      ]
    },
    {
      "cell_type": "markdown",
      "source": [
        "## Addition using numpy"
      ],
      "metadata": {
        "id": "r6UTd5wKXeoL"
      }
    },
    {
      "cell_type": "code",
      "source": [
        "a = np.array([1, 2, 3, 4]) # a is an array\n",
        "# a + 10 # we can simply do all basic mathematics\n",
        "# a - 10\n",
        "# a * 10\n",
        "# a / 10\n",
        "a // 10"
      ],
      "metadata": {
        "colab": {
          "base_uri": "https://localhost:8080/"
        },
        "id": "3DSjSvQnXEQb",
        "outputId": "065a5035-b804-4da5-9355-876e6bf6abfe"
      },
      "execution_count": null,
      "outputs": [
        {
          "output_type": "execute_result",
          "data": {
            "text/plain": [
              "array([0, 0, 0, 0])"
            ]
          },
          "metadata": {},
          "execution_count": 81
        }
      ]
    },
    {
      "cell_type": "code",
      "source": [
        "##type 1\n",
        "a = np.array([10, 20])\n",
        "print(a)\n",
        "np.sum([10,20])"
      ],
      "metadata": {
        "colab": {
          "base_uri": "https://localhost:8080/"
        },
        "id": "dYrbAKkuXL77",
        "outputId": "4ff838d1-fc2d-41f8-a1de-4fb63248224d"
      },
      "execution_count": null,
      "outputs": [
        {
          "output_type": "stream",
          "name": "stdout",
          "text": [
            "[10 20]\n"
          ]
        },
        {
          "output_type": "execute_result",
          "data": {
            "text/plain": [
              "30"
            ]
          },
          "metadata": {},
          "execution_count": 82
        }
      ]
    },
    {
      "cell_type": "code",
      "source": [
        "#type 2\n",
        "a,b = 10,20\n",
        "np.sum([a,b])"
      ],
      "metadata": {
        "colab": {
          "base_uri": "https://localhost:8080/"
        },
        "id": "sxi1R1x-XOG7",
        "outputId": "b49e24da-b73e-4484-b4f6-ac3836c3abfa"
      },
      "execution_count": null,
      "outputs": [
        {
          "output_type": "execute_result",
          "data": {
            "text/plain": [
              "30"
            ]
          },
          "metadata": {},
          "execution_count": 83
        }
      ]
    },
    {
      "cell_type": "code",
      "source": [
        "#type 3\n",
        "a = np.array([[1, 2], [3, 1]])\n",
        "print(a)\n",
        "np.sum(a, axis=0) # axis o means column wise"
      ],
      "metadata": {
        "colab": {
          "base_uri": "https://localhost:8080/"
        },
        "id": "9M7BtxLvXPbD",
        "outputId": "b857a905-08d2-4e27-ac07-c8c5af75abdc"
      },
      "execution_count": null,
      "outputs": [
        {
          "output_type": "stream",
          "name": "stdout",
          "text": [
            "[[1 2]\n",
            " [3 1]]\n"
          ]
        },
        {
          "output_type": "execute_result",
          "data": {
            "text/plain": [
              "array([4, 3])"
            ]
          },
          "metadata": {},
          "execution_count": 85
        }
      ]
    },
    {
      "cell_type": "code",
      "source": [
        "#type 4\n",
        "a = np.array([[1, 2], [3, 1]])\n",
        "print(a)\n",
        "np.sum(a, axis=1) # axis 1 means row wise"
      ],
      "metadata": {
        "colab": {
          "base_uri": "https://localhost:8080/"
        },
        "id": "sud0wIrwXR_D",
        "outputId": "0fd5e8b2-759f-498d-b3c4-ce2042bfd7f0"
      },
      "execution_count": null,
      "outputs": [
        {
          "output_type": "stream",
          "name": "stdout",
          "text": [
            "[[1 2]\n",
            " [3 1]]\n"
          ]
        },
        {
          "output_type": "execute_result",
          "data": {
            "text/plain": [
              "7"
            ]
          },
          "metadata": {},
          "execution_count": 92
        }
      ]
    },
    {
      "cell_type": "code",
      "source": [
        "a + 10 # adding a constant value in a matrix"
      ],
      "metadata": {
        "colab": {
          "base_uri": "https://localhost:8080/"
        },
        "id": "kSFVGy1xXUYx",
        "outputId": "ac88f5e2-ee9d-4ea0-97a7-520df9d2aa01"
      },
      "execution_count": null,
      "outputs": [
        {
          "output_type": "execute_result",
          "data": {
            "text/plain": [
              "array([[11, 12],\n",
              "       [13, 11]])"
            ]
          },
          "metadata": {},
          "execution_count": 87
        }
      ]
    },
    {
      "cell_type": "markdown",
      "source": [
        "### subtraction using numpy"
      ],
      "metadata": {
        "id": "Ik2jGiHgXZFk"
      }
    },
    {
      "cell_type": "code",
      "source": [
        "np.subtract(10,20)"
      ],
      "metadata": {
        "colab": {
          "base_uri": "https://localhost:8080/"
        },
        "id": "sfPyJcQ_XWjz",
        "outputId": "f6bb547d-1daf-4b3c-f4be-bbe2cea7071d"
      },
      "execution_count": null,
      "outputs": [
        {
          "output_type": "execute_result",
          "data": {
            "text/plain": [
              "-10"
            ]
          },
          "metadata": {},
          "execution_count": 88
        }
      ]
    },
    {
      "cell_type": "markdown",
      "source": [
        "### other maths functions using numpy"
      ],
      "metadata": {
        "id": "IdBKyj60XmPg"
      }
    },
    {
      "cell_type": "code",
      "source": [
        "np.multiply(2,3) #multiply"
      ],
      "metadata": {
        "colab": {
          "base_uri": "https://localhost:8080/"
        },
        "id": "xdXHN6MnXjyS",
        "outputId": "c3c865ba-0b59-4f68-ad67-99bd8ed66ba3"
      },
      "execution_count": null,
      "outputs": [
        {
          "output_type": "execute_result",
          "data": {
            "text/plain": [
              "6"
            ]
          },
          "metadata": {},
          "execution_count": 89
        }
      ]
    },
    {
      "cell_type": "code",
      "source": [
        "np.divide(10,5)  #divide"
      ],
      "metadata": {
        "colab": {
          "base_uri": "https://localhost:8080/"
        },
        "id": "lVmI8s9mXsF_",
        "outputId": "445511e5-272b-465c-bc28-1be3c35ef9dd"
      },
      "execution_count": null,
      "outputs": [
        {
          "output_type": "execute_result",
          "data": {
            "text/plain": [
              "2.0"
            ]
          },
          "metadata": {},
          "execution_count": 90
        }
      ]
    },
    {
      "cell_type": "code",
      "source": [
        "#multiply arrays\n",
        "a = np.array([2,3,4]) \n",
        "b = np.array([5,6,3])\n",
        "np.multiply(a,b) # element wise multiplication"
      ],
      "metadata": {
        "colab": {
          "base_uri": "https://localhost:8080/"
        },
        "id": "HiIess2bXwzB",
        "outputId": "6d3d6da0-9f38-414a-88c2-7ab1b76515ea"
      },
      "execution_count": null,
      "outputs": [
        {
          "output_type": "execute_result",
          "data": {
            "text/plain": [
              "array([10, 18, 12])"
            ]
          },
          "metadata": {},
          "execution_count": 91
        }
      ]
    },
    {
      "cell_type": "code",
      "source": [
        "#exp, sqrt\n",
        "a=[1,2,4]\n",
        "print(np.exp(a))\n",
        "print(np.sqrt(a))"
      ],
      "metadata": {
        "colab": {
          "base_uri": "https://localhost:8080/"
        },
        "id": "VcCU1oCiX14A",
        "outputId": "86c57161-aa76-4670-e86c-df02b055357d"
      },
      "execution_count": null,
      "outputs": [
        {
          "output_type": "stream",
          "name": "stdout",
          "text": [
            "[ 2.71828183  7.3890561  54.59815003]\n",
            "[1.         1.41421356 2.        ]\n"
          ]
        }
      ]
    },
    {
      "cell_type": "markdown",
      "source": [
        "### Basic statistics"
      ],
      "metadata": {
        "id": "XLdVL356X94d"
      }
    },
    {
      "cell_type": "code",
      "source": [
        "age = [23, 34, 27, 30, 32, 31, 33, 26, 28, 25]\n",
        "np.std(age) # standard deviation"
      ],
      "metadata": {
        "colab": {
          "base_uri": "https://localhost:8080/"
        },
        "id": "dAJPvU-BX7LU",
        "outputId": "6bee2b34-1ab8-4d0f-bf95-06ed89f30234"
      },
      "execution_count": null,
      "outputs": [
        {
          "output_type": "execute_result",
          "data": {
            "text/plain": [
              "3.477067730142742"
            ]
          },
          "metadata": {},
          "execution_count": 94
        }
      ]
    },
    {
      "cell_type": "code",
      "source": [
        "np.std(age, ddof = 1) # ddof means the Delta Degrees of Freedom. It actually means n - 1"
      ],
      "metadata": {
        "colab": {
          "base_uri": "https://localhost:8080/"
        },
        "id": "_M1oVAl6YD-g",
        "outputId": "c5855ce9-41f6-41ec-859b-3736e1fccffa"
      },
      "execution_count": null,
      "outputs": [
        {
          "output_type": "execute_result",
          "data": {
            "text/plain": [
              "3.665151201974256"
            ]
          },
          "metadata": {},
          "execution_count": 95
        }
      ]
    },
    {
      "cell_type": "code",
      "source": [
        "np.var(age, ddof = 1) # ddof means the Delta Degrees of Freedom. It actually means n - 1"
      ],
      "metadata": {
        "id": "3gAlPeVPYFDs"
      },
      "execution_count": null,
      "outputs": []
    },
    {
      "cell_type": "code",
      "source": [
        "np.mean(age)"
      ],
      "metadata": {
        "colab": {
          "base_uri": "https://localhost:8080/"
        },
        "id": "tvDc4MieYIaU",
        "outputId": "fdd84d3f-89f2-456e-b6d2-b9817ce189d1"
      },
      "execution_count": null,
      "outputs": [
        {
          "output_type": "execute_result",
          "data": {
            "text/plain": [
              "28.9"
            ]
          },
          "metadata": {},
          "execution_count": 96
        }
      ]
    },
    {
      "cell_type": "code",
      "source": [
        "np.median(age)"
      ],
      "metadata": {
        "colab": {
          "base_uri": "https://localhost:8080/"
        },
        "id": "2yusemFKYK2t",
        "outputId": "4a5f84cc-c992-4e61-b256-56e76630266e"
      },
      "execution_count": null,
      "outputs": [
        {
          "output_type": "execute_result",
          "data": {
            "text/plain": [
              "29.0"
            ]
          },
          "metadata": {},
          "execution_count": 97
        }
      ]
    },
    {
      "cell_type": "code",
      "source": [
        "np.min(age)\n",
        "np.mode(age)"
      ],
      "metadata": {
        "colab": {
          "base_uri": "https://localhost:8080/",
          "height": 304
        },
        "id": "uEA6BncEYPnE",
        "outputId": "af18b22e-7053-43f6-a523-fe6d5723a4c9"
      },
      "execution_count": null,
      "outputs": [
        {
          "output_type": "error",
          "ename": "AttributeError",
          "evalue": "ignored",
          "traceback": [
            "\u001b[0;31m---------------------------------------------------------------------------\u001b[0m",
            "\u001b[0;31mAttributeError\u001b[0m                            Traceback (most recent call last)",
            "\u001b[0;32m<ipython-input-106-6e12bc883551>\u001b[0m in \u001b[0;36m<module>\u001b[0;34m()\u001b[0m\n\u001b[1;32m      1\u001b[0m \u001b[0mnp\u001b[0m\u001b[0;34m.\u001b[0m\u001b[0mmin\u001b[0m\u001b[0;34m(\u001b[0m\u001b[0mage\u001b[0m\u001b[0;34m)\u001b[0m\u001b[0;34m\u001b[0m\u001b[0;34m\u001b[0m\u001b[0m\n\u001b[0;32m----> 2\u001b[0;31m \u001b[0mnp\u001b[0m\u001b[0;34m.\u001b[0m\u001b[0mmode\u001b[0m\u001b[0;34m(\u001b[0m\u001b[0mage\u001b[0m\u001b[0;34m)\u001b[0m\u001b[0;34m\u001b[0m\u001b[0;34m\u001b[0m\u001b[0m\n\u001b[0m",
            "\u001b[0;32m/usr/local/lib/python3.7/dist-packages/numpy/__init__.py\u001b[0m in \u001b[0;36m__getattr__\u001b[0;34m(attr)\u001b[0m\n\u001b[1;32m    312\u001b[0m \u001b[0;34m\u001b[0m\u001b[0m\n\u001b[1;32m    313\u001b[0m             raise AttributeError(\"module {!r} has no attribute \"\n\u001b[0;32m--> 314\u001b[0;31m                                  \"{!r}\".format(__name__, attr))\n\u001b[0m\u001b[1;32m    315\u001b[0m \u001b[0;34m\u001b[0m\u001b[0m\n\u001b[1;32m    316\u001b[0m         \u001b[0;32mdef\u001b[0m \u001b[0m__dir__\u001b[0m\u001b[0;34m(\u001b[0m\u001b[0;34m)\u001b[0m\u001b[0;34m:\u001b[0m\u001b[0;34m\u001b[0m\u001b[0;34m\u001b[0m\u001b[0m\n",
            "\u001b[0;31mAttributeError\u001b[0m: module 'numpy' has no attribute 'mode'"
          ]
        }
      ]
    },
    {
      "cell_type": "code",
      "source": [
        "np.max(age)"
      ],
      "metadata": {
        "colab": {
          "base_uri": "https://localhost:8080/"
        },
        "id": "yLrH75-bYQFG",
        "outputId": "ed905e06-dafe-480b-fe30-fd30ed5de609"
      },
      "execution_count": null,
      "outputs": [
        {
          "output_type": "execute_result",
          "data": {
            "text/plain": [
              "34"
            ]
          },
          "metadata": {},
          "execution_count": 99
        }
      ]
    },
    {
      "cell_type": "code",
      "source": [
        "a = np.array([[1,6],\n",
        "[4,3]])\n",
        "print(a)\n",
        "# minimum along a column\n",
        "print('Min :',np.min(a,axis=0))\n",
        "# maximum along a row\n",
        "print('Max :',np.max(a,axis=1))"
      ],
      "metadata": {
        "colab": {
          "base_uri": "https://localhost:8080/"
        },
        "id": "Oo9Xs5vUdDK-",
        "outputId": "ee9564e0-9138-428e-8743-02fd806319be"
      },
      "execution_count": null,
      "outputs": [
        {
          "output_type": "stream",
          "name": "stdout",
          "text": [
            "[[1 6]\n",
            " [4 3]]\n",
            "Min : [1 3]\n",
            "Max : [6 4]\n"
          ]
        }
      ]
    },
    {
      "cell_type": "markdown",
      "source": [
        "## Boolean indexing"
      ],
      "metadata": {
        "id": "k_oG52CWYVBj"
      }
    },
    {
      "cell_type": "code",
      "source": [
        "# What will be the output of following function?\n",
        "Age = np.array([75, 65, 25, 92, 18, 14, 22])\n",
        "Age <= 18"
      ],
      "metadata": {
        "colab": {
          "base_uri": "https://localhost:8080/"
        },
        "id": "4RsaFhrOYSlR",
        "outputId": "f8d22ef9-c380-4a1d-efe8-e33622ce38fd"
      },
      "execution_count": null,
      "outputs": [
        {
          "output_type": "execute_result",
          "data": {
            "text/plain": [
              "array([False, False, False, False,  True,  True, False])"
            ]
          },
          "metadata": {},
          "execution_count": 107
        }
      ]
    },
    {
      "cell_type": "markdown",
      "source": [],
      "metadata": {
        "id": "Ffh_ZSi9RDbr"
      }
    },
    {
      "cell_type": "code",
      "source": [
        "Age_18 = Age[Age <=18]\n",
        "Age_18"
      ],
      "metadata": {
        "colab": {
          "base_uri": "https://localhost:8080/"
        },
        "id": "zRZAMlPHYYv3",
        "outputId": "b69b752e-a208-4b88-91b3-dcb9df241058"
      },
      "execution_count": null,
      "outputs": [
        {
          "output_type": "execute_result",
          "data": {
            "text/plain": [
              "array([18, 14])"
            ]
          },
          "metadata": {},
          "execution_count": 109
        }
      ]
    },
    {
      "cell_type": "markdown",
      "source": [
        "## array comparison"
      ],
      "metadata": {
        "id": "m-qHn1gpYdVz"
      }
    },
    {
      "cell_type": "code",
      "source": [
        "# What will be the output of following code?\n",
        "a = [3,2,3]\n",
        "b = [3,2,4]\n",
        "c = [1,2,3]\n",
        "np.equal(a,b)"
      ],
      "metadata": {
        "colab": {
          "base_uri": "https://localhost:8080/"
        },
        "id": "YnjmZOSZYaOB",
        "outputId": "cf91028d-9d81-442f-9988-c230d5b48339"
      },
      "execution_count": null,
      "outputs": [
        {
          "output_type": "execute_result",
          "data": {
            "text/plain": [
              "array([ True,  True, False])"
            ]
          },
          "metadata": {},
          "execution_count": 110
        }
      ]
    },
    {
      "cell_type": "code",
      "source": [
        "#array wise comparison\n",
        "a = [1,2,3]\n",
        "b = [1,2,3]\n",
        "c = [1,2,4]\n",
        "np.array_equal(a,c)"
      ],
      "metadata": {
        "colab": {
          "base_uri": "https://localhost:8080/"
        },
        "id": "m_Bbe4YtYmmd",
        "outputId": "ec860311-9113-4285-b6bc-130f5d914e66"
      },
      "execution_count": null,
      "outputs": [
        {
          "output_type": "execute_result",
          "data": {
            "text/plain": [
              "False"
            ]
          },
          "metadata": {},
          "execution_count": 111
        }
      ]
    },
    {
      "cell_type": "markdown",
      "source": [],
      "metadata": {
        "id": "Nd5UmYgPYufj"
      }
    },
    {
      "cell_type": "markdown",
      "source": [
        "## broadcasting\n",
        " - the ability of NumPy to treat arrays of different shapes during arithmetic operations"
      ],
      "metadata": {
        "id": "eIPNCzjGYukv"
      }
    },
    {
      "cell_type": "code",
      "source": [
        "a = np.array([[1,1,1],[10,10,10],[20,20,20],[30,30,30]])\n",
        "b = np.array([1, 2, 3])\n",
        "print(a.shape)\n",
        "print(b.shape)\n",
        "print('First array: \\n',a,'\\n')\n",
        "print('Second array: \\n',b,'\\n')\n",
        "\n",
        "print(a+b)"
      ],
      "metadata": {
        "colab": {
          "base_uri": "https://localhost:8080/"
        },
        "id": "vAklkaFdYvyK",
        "outputId": "91378b03-0a0b-4705-a66f-12290d70881d"
      },
      "execution_count": null,
      "outputs": [
        {
          "output_type": "stream",
          "name": "stdout",
          "text": [
            "(4, 3)\n",
            "(3,)\n",
            "First array: \n",
            " [[ 1  1  1]\n",
            " [10 10 10]\n",
            " [20 20 20]\n",
            " [30 30 30]] \n",
            "\n",
            "Second array: \n",
            " [1 2 3] \n",
            "\n",
            "[[ 2  3  4]\n",
            " [11 12 13]\n",
            " [21 22 23]\n",
            " [31 32 33]]\n"
          ]
        }
      ]
    },
    {
      "cell_type": "markdown",
      "source": [
        "## Stacking"
      ],
      "metadata": {
        "id": "N6R-iGdvY8ND"
      }
    },
    {
      "cell_type": "code",
      "source": [
        "a = np.array([1, 2, 3, 4])\n",
        "b = np.array([10, 11, 12, 13])\n"
      ],
      "metadata": {
        "id": "dP4qTmG8YycA"
      },
      "execution_count": null,
      "outputs": []
    },
    {
      "cell_type": "code",
      "source": [
        "print(np.vstack((a, b))) # vertical stacking"
      ],
      "metadata": {
        "colab": {
          "base_uri": "https://localhost:8080/"
        },
        "id": "YHbiv-GuY_dU",
        "outputId": "6b685aea-9951-4641-f1c1-732bee4b1109"
      },
      "execution_count": null,
      "outputs": [
        {
          "output_type": "stream",
          "name": "stdout",
          "text": [
            "[[ 1  2  3  4]\n",
            " [10 11 12 13]]\n"
          ]
        }
      ]
    },
    {
      "cell_type": "code",
      "source": [
        "print(np.hstack((a, b))) # horizontal stacking"
      ],
      "metadata": {
        "colab": {
          "base_uri": "https://localhost:8080/"
        },
        "id": "M1kAOurbZA1-",
        "outputId": "bc24e560-63ab-43c6-ab64-70ee4dee5be5"
      },
      "execution_count": null,
      "outputs": [
        {
          "output_type": "stream",
          "name": "stdout",
          "text": [
            "[ 1  2  3  4 10 11 12 13]\n"
          ]
        }
      ]
    },
    {
      "cell_type": "markdown",
      "source": [
        "## concatenate 2 arrays"
      ],
      "metadata": {
        "id": "irUFNOr7ZcZ2"
      }
    },
    {
      "cell_type": "code",
      "source": [
        "a = np.array([1,2,3])\n",
        "b = np.array([4,5,6])\n",
        "c = np.concatenate((a,b))\n",
        "print(c)"
      ],
      "metadata": {
        "colab": {
          "base_uri": "https://localhost:8080/"
        },
        "id": "0VOOuL6gZCev",
        "outputId": "83d1af4e-82da-482b-c14a-9e3bc51bab78"
      },
      "execution_count": null,
      "outputs": [
        {
          "output_type": "stream",
          "name": "stdout",
          "text": [
            "[1 2 3 4 5 6]\n"
          ]
        }
      ]
    },
    {
      "cell_type": "code",
      "source": [
        "#combining col-wise\n",
        "np.column_stack((a,b))"
      ],
      "metadata": {
        "colab": {
          "base_uri": "https://localhost:8080/"
        },
        "id": "DwHKBC13Zh0V",
        "outputId": "b42dbedc-e8d5-422a-9b3e-b269d7fdf9ed"
      },
      "execution_count": null,
      "outputs": [
        {
          "output_type": "execute_result",
          "data": {
            "text/plain": [
              "array([[1, 4],\n",
              "       [2, 5],\n",
              "       [3, 6]])"
            ]
          },
          "metadata": {},
          "execution_count": 121
        }
      ]
    },
    {
      "cell_type": "markdown",
      "source": [
        "## Splitting Array"
      ],
      "metadata": {
        "id": "189Ant3ZZr6I"
      }
    },
    {
      "cell_type": "code",
      "source": [
        "# Syntax: numpy.reshape(array, shape)\n",
        "x = np.arange(16).reshape(4,4) # first array and then shape\n",
        "print(x)"
      ],
      "metadata": {
        "colab": {
          "base_uri": "https://localhost:8080/"
        },
        "id": "MnrdV9B7ZoDu",
        "outputId": "0eb5f596-1eeb-43dd-aabc-284c683e08a5"
      },
      "execution_count": null,
      "outputs": [
        {
          "output_type": "stream",
          "name": "stdout",
          "text": [
            "[[ 0  1  2  3]\n",
            " [ 4  5  6  7]\n",
            " [ 8  9 10 11]\n",
            " [12 13 14 15]]\n"
          ]
        }
      ]
    },
    {
      "cell_type": "code",
      "source": [
        "#split the same array horiz - after 2 cols\n",
        "x = np.arange(16).reshape(4,4)\n",
        "print(x, \"\\n\\n\")\n",
        "np.hsplit(x,2)"
      ],
      "metadata": {
        "colab": {
          "base_uri": "https://localhost:8080/"
        },
        "id": "zf4j1UX8Zuxx",
        "outputId": "ced69885-1c46-44bd-8aec-f966b800a24e"
      },
      "execution_count": null,
      "outputs": [
        {
          "output_type": "stream",
          "name": "stdout",
          "text": [
            "[[ 0  1  2  3]\n",
            " [ 4  5  6  7]\n",
            " [ 8  9 10 11]\n",
            " [12 13 14 15]] \n",
            "\n",
            "\n"
          ]
        },
        {
          "output_type": "execute_result",
          "data": {
            "text/plain": [
              "[array([[0, 1, 2, 3],\n",
              "        [4, 5, 6, 7]]), array([[ 8,  9, 10, 11],\n",
              "        [12, 13, 14, 15]])]"
            ]
          },
          "metadata": {},
          "execution_count": 128
        }
      ]
    },
    {
      "cell_type": "markdown",
      "source": [
        "## Indexing & Slicing"
      ],
      "metadata": {
        "id": "DoOB1bzrZ66d"
      }
    },
    {
      "cell_type": "code",
      "source": [
        "a = ['n','o','p','e','t','o','h','i','m']\n",
        "a[0:5]"
      ],
      "metadata": {
        "colab": {
          "base_uri": "https://localhost:8080/"
        },
        "id": "HTRF1j54ZxDl",
        "outputId": "5f6b3bc9-1ffb-43ab-8345-972d3b211392"
      },
      "execution_count": null,
      "outputs": [
        {
          "output_type": "execute_result",
          "data": {
            "text/plain": [
              "['n', 'o', 'p', 'e', 't']"
            ]
          },
          "metadata": {},
          "execution_count": 129
        }
      ]
    },
    {
      "cell_type": "code",
      "source": [
        "# to slice arrays based on arrays\n",
        "a = np.array([[1,2,3],[4,5,6],[7,8,9]]) \n",
        "print(a)\n"
      ],
      "metadata": {
        "colab": {
          "base_uri": "https://localhost:8080/"
        },
        "id": "pKC2dAh5Z-Qr",
        "outputId": "3c93631f-c385-4646-9c34-eafc332906a7"
      },
      "execution_count": null,
      "outputs": [
        {
          "output_type": "stream",
          "name": "stdout",
          "text": [
            "[[1 2 3]\n",
            " [4 5 6]\n",
            " [7 8 9]]\n"
          ]
        }
      ]
    },
    {
      "cell_type": "code",
      "source": [
        "a[0]"
      ],
      "metadata": {
        "colab": {
          "base_uri": "https://localhost:8080/"
        },
        "id": "FjQlRZghaAH1",
        "outputId": "4c8303e0-b875-4504-abcf-9bd5dcbe9c50"
      },
      "execution_count": null,
      "outputs": [
        {
          "output_type": "execute_result",
          "data": {
            "text/plain": [
              "array([1, 2, 3])"
            ]
          },
          "metadata": {},
          "execution_count": 131
        }
      ]
    },
    {
      "cell_type": "code",
      "source": [
        "# to extract 1st array\n",
        "a[:,2:3]"
      ],
      "metadata": {
        "colab": {
          "base_uri": "https://localhost:8080/"
        },
        "id": "5avgA9mgaD8R",
        "outputId": "61fbc302-421b-4c9f-b93e-92d0a1191365"
      },
      "execution_count": null,
      "outputs": [
        {
          "output_type": "execute_result",
          "data": {
            "text/plain": [
              "array([[3],\n",
              "       [6],\n",
              "       [9]])"
            ]
          },
          "metadata": {},
          "execution_count": 136
        }
      ]
    },
    {
      "cell_type": "code",
      "source": [
        "# to extract, 2nd and 3rd element from 1st array\n",
        "a = np.array([[1,2,3],[4,5,6],[7,8,9]])\n",
        "print(a)\n"
      ],
      "metadata": {
        "colab": {
          "base_uri": "https://localhost:8080/"
        },
        "id": "k49JancbaKy8",
        "outputId": "a6a9678d-ba1c-4d5f-d7e6-30efb0330d6f"
      },
      "execution_count": null,
      "outputs": [
        {
          "output_type": "stream",
          "name": "stdout",
          "text": [
            "[[1 2 3]\n",
            " [4 5 6]\n",
            " [7 8 9]]\n"
          ]
        }
      ]
    },
    {
      "cell_type": "code",
      "source": [
        "a[:1,1:]"
      ],
      "metadata": {
        "colab": {
          "base_uri": "https://localhost:8080/"
        },
        "id": "lpnXqAxqaS9g",
        "outputId": "70afbdf9-60ec-49f7-c413-6c8896bdad45"
      },
      "execution_count": null,
      "outputs": [
        {
          "output_type": "execute_result",
          "data": {
            "text/plain": [
              "array([[2, 3]])"
            ]
          },
          "metadata": {},
          "execution_count": 138
        }
      ]
    },
    {
      "cell_type": "code",
      "source": [
        "#to extract only 2,3,5 and 6 from the arrays, i.e.,1st 2 rows (horiz) and after 1st col(vertically)\n",
        "a[:2,1:]"
      ],
      "metadata": {
        "colab": {
          "base_uri": "https://localhost:8080/"
        },
        "id": "lhFGO9_Bahg5",
        "outputId": "a6036e5e-f097-4cd4-9493-1a673081f61c"
      },
      "execution_count": null,
      "outputs": [
        {
          "output_type": "execute_result",
          "data": {
            "text/plain": [
              "array([[2, 3],\n",
              "       [5, 6]])"
            ]
          },
          "metadata": {},
          "execution_count": 139
        }
      ]
    },
    {
      "cell_type": "code",
      "source": [
        "#to extract 5,6,8 and 9 from the array\n",
        "a[1:,1:]"
      ],
      "metadata": {
        "id": "zeL-vBbUajFj"
      },
      "execution_count": null,
      "outputs": []
    },
    {
      "cell_type": "markdown",
      "source": [
        "## reading files"
      ],
      "metadata": {
        "id": "i2W3IUJjgxEa"
      }
    },
    {
      "cell_type": "code",
      "source": [
        "peng = np.genfromtxt(\"penguins_lter.csv\", delimiter=\",\", dtype=str)\n",
        "peng"
      ],
      "metadata": {
        "colab": {
          "base_uri": "https://localhost:8080/"
        },
        "id": "KnAV1tCCcd8T",
        "outputId": "7046816a-fc2b-45f1-8d10-11938e7efe03"
      },
      "execution_count": null,
      "outputs": [
        {
          "output_type": "execute_result",
          "data": {
            "text/plain": [
              "array([['studyName', 'Sample_Number', 'Species', ...,\n",
              "        'Flipper_Length_mm', 'Body_Mass_g', 'Sex'],\n",
              "       ['PAL0708', '1', 'Adelie', ..., '181', '3750', 'MALE'],\n",
              "       ['PAL0708', '2', 'Adelie', ..., '186', '3800', 'FEMALE'],\n",
              "       ...,\n",
              "       ['PAL0910', '122', 'Gentoo', ..., '222', '5750', 'MALE'],\n",
              "       ['PAL0910', '123', 'Gentoo', ..., '212', '5200', 'FEMALE'],\n",
              "       ['PAL0910', '124', 'Gentoo', ..., '213', '5400', 'MALE']],\n",
              "      dtype='<U17')"
            ]
          },
          "metadata": {},
          "execution_count": 124
        }
      ]
    },
    {
      "cell_type": "code",
      "source": [
        "peng.shape"
      ],
      "metadata": {
        "colab": {
          "base_uri": "https://localhost:8080/"
        },
        "id": "3m3Kxhd_hCev",
        "outputId": "25a1c750-16c8-44eb-d782-029f6eed6c2b"
      },
      "execution_count": null,
      "outputs": [
        {
          "output_type": "execute_result",
          "data": {
            "text/plain": [
              "(345, 12)"
            ]
          },
          "metadata": {},
          "execution_count": 118
        }
      ]
    },
    {
      "cell_type": "code",
      "source": [
        "# Unique data\n",
        "np.unique(peng[...,0])"
      ],
      "metadata": {
        "colab": {
          "base_uri": "https://localhost:8080/"
        },
        "id": "9FoqLRT1hitj",
        "outputId": "a886c495-dbd5-49e3-fd1c-1a9fd451c1b7"
      },
      "execution_count": null,
      "outputs": [
        {
          "output_type": "execute_result",
          "data": {
            "text/plain": [
              "array(['PAL0708', 'PAL0809', 'PAL0910', 'studyName'], dtype='<U17')"
            ]
          },
          "metadata": {},
          "execution_count": 121
        }
      ]
    },
    {
      "cell_type": "code",
      "source": [
        "np.unique([peng[...,-1]])"
      ],
      "metadata": {
        "colab": {
          "base_uri": "https://localhost:8080/"
        },
        "id": "xeXAiyEuho_-",
        "outputId": "ca2e2f63-3a2b-467f-ddb7-8b5df9955e1b"
      },
      "execution_count": null,
      "outputs": [
        {
          "output_type": "execute_result",
          "data": {
            "text/plain": [
              "array(['', '.', 'FEMALE', 'MALE', 'Sex'], dtype='<U17')"
            ]
          },
          "metadata": {},
          "execution_count": 122
        }
      ]
    },
    {
      "cell_type": "code",
      "source": [
        "# Data Filteration\n",
        "Male = peng[peng[...,-1]=='Male']\n",
        "Male"
      ],
      "metadata": {
        "colab": {
          "base_uri": "https://localhost:8080/"
        },
        "id": "P5jPq20OiCNZ",
        "outputId": "d911869a-a74e-4380-b188-913876695fbf"
      },
      "execution_count": null,
      "outputs": [
        {
          "output_type": "execute_result",
          "data": {
            "text/plain": [
              "array([], shape=(0, 12), dtype='<U17')"
            ]
          },
          "metadata": {},
          "execution_count": 123
        }
      ]
    },
    {
      "cell_type": "code",
      "source": [
        "l = input(\"Enter: \")\n",
        "k = int(input(\"Enter: \")\n",
        "\n",
        "result = []\n",
        "\n",
        "for i in range(1, k + 1):\n",
        "  result.append(l[-i])\n",
        "\n",
        "result = result + l[:, len(l) - i]"
      ],
      "metadata": {
        "colab": {
          "base_uri": "https://localhost:8080/",
          "height": 269
        },
        "id": "vNxGxwqtIl90",
        "outputId": "4d561c96-bfd0-4cd2-b78a-de611a38f72f"
      },
      "execution_count": null,
      "outputs": [
        {
          "name": "stdout",
          "output_type": "stream",
          "text": [
            "Enter: 1 2 3 4 5\n",
            "Enter: 2\n"
          ]
        },
        {
          "output_type": "error",
          "ename": "TypeError",
          "evalue": "ignored",
          "traceback": [
            "\u001b[0;31m---------------------------------------------------------------------------\u001b[0m",
            "\u001b[0;31mTypeError\u001b[0m                                 Traceback (most recent call last)",
            "\u001b[0;32m<ipython-input-144-472461611287>\u001b[0m in \u001b[0;36m<module>\u001b[0;34m()\u001b[0m\n\u001b[1;32m      4\u001b[0m \u001b[0mresult\u001b[0m \u001b[0;34m=\u001b[0m \u001b[0;34m[\u001b[0m\u001b[0;34m]\u001b[0m\u001b[0;34m\u001b[0m\u001b[0;34m\u001b[0m\u001b[0m\n\u001b[1;32m      5\u001b[0m \u001b[0;34m\u001b[0m\u001b[0m\n\u001b[0;32m----> 6\u001b[0;31m \u001b[0;32mfor\u001b[0m \u001b[0mi\u001b[0m \u001b[0;32min\u001b[0m \u001b[0mrange\u001b[0m\u001b[0;34m(\u001b[0m\u001b[0;36m1\u001b[0m\u001b[0;34m,\u001b[0m \u001b[0mk\u001b[0m \u001b[0;34m+\u001b[0m \u001b[0;36m1\u001b[0m\u001b[0;34m)\u001b[0m\u001b[0;34m:\u001b[0m\u001b[0;34m\u001b[0m\u001b[0;34m\u001b[0m\u001b[0m\n\u001b[0m\u001b[1;32m      7\u001b[0m   \u001b[0mresult\u001b[0m\u001b[0;34m.\u001b[0m\u001b[0mappend\u001b[0m\u001b[0;34m(\u001b[0m\u001b[0ml\u001b[0m\u001b[0;34m[\u001b[0m\u001b[0;34m-\u001b[0m\u001b[0mi\u001b[0m\u001b[0;34m]\u001b[0m\u001b[0;34m)\u001b[0m\u001b[0;34m\u001b[0m\u001b[0;34m\u001b[0m\u001b[0m\n\u001b[1;32m      8\u001b[0m \u001b[0;34m\u001b[0m\u001b[0m\n",
            "\u001b[0;31mTypeError\u001b[0m: can only concatenate str (not \"int\") to str"
          ]
        }
      ]
    },
    {
      "cell_type": "code",
      "source": [],
      "metadata": {
        "id": "2a-h1z3Ooc1o"
      },
      "execution_count": null,
      "outputs": []
    }
  ]
}