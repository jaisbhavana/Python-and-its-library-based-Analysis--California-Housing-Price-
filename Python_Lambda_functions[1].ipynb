{
  "nbformat": 4,
  "nbformat_minor": 0,
  "metadata": {
    "colab": {
      "provenance": []
    },
    "kernelspec": {
      "name": "python3",
      "display_name": "Python 3"
    },
    "language_info": {
      "name": "python"
    }
  },
  "cells": [
    {
      "cell_type": "markdown",
      "metadata": {
        "id": "13d5020b"
      },
      "source": [
        "# Lambda function"
      ]
    },
    {
      "cell_type": "markdown",
      "metadata": {
        "id": "a1380aa3"
      },
      "source": [
        "- known as anonymous function as defined without name\n",
        "- can accept any number of arguments, but expression has only one value"
      ]
    },
    {
      "cell_type": "markdown",
      "metadata": {
        "id": "d5b29d5d"
      },
      "source": [
        "### Syntax\n",
        "\n",
        "**lambda** arguments: expression"
      ]
    },
    {
      "cell_type": "code",
      "execution_count": null,
      "metadata": {
        "id": "7d9db896"
      },
      "outputs": [],
      "source": [
        "def plus_age(age):\n",
        "    return age + 10"
      ]
    },
    {
      "cell_type": "code",
      "execution_count": null,
      "metadata": {
        "colab": {
          "base_uri": "https://localhost:8080/"
        },
        "id": "07241f60",
        "outputId": "7968acd2-ca5a-4d8c-ed85-3089b8d8ec22"
      },
      "outputs": [
        {
          "output_type": "execute_result",
          "data": {
            "text/plain": [
              "35"
            ]
          },
          "metadata": {},
          "execution_count": 3
        }
      ],
      "source": [
        "plus_age(25)"
      ]
    },
    {
      "cell_type": "code",
      "execution_count": null,
      "metadata": {
        "colab": {
          "base_uri": "https://localhost:8080/"
        },
        "id": "9c20e2f2",
        "outputId": "3952312d-a6ff-4e9f-ca7d-2dfcff4dd03d"
      },
      "outputs": [
        {
          "output_type": "stream",
          "name": "stdout",
          "text": [
            "age =  35\n"
          ]
        }
      ],
      "source": [
        "# age is an argument and age +10 is an expression which got evaluated and returned.    \n",
        "first_lam_fun = lambda age:age + 10\n",
        "\n",
        "# Here we are printing the function object  \n",
        "print(\"age = \", first_lam_fun(25))"
      ]
    },
    {
      "cell_type": "code",
      "execution_count": null,
      "metadata": {
        "colab": {
          "base_uri": "https://localhost:8080/"
        },
        "id": "12f55672",
        "outputId": "fc1ca38a-70a9-4928-d60e-edf75333d069"
      },
      "outputs": [
        {
          "output_type": "stream",
          "name": "stdout",
          "text": [
            "8\n"
          ]
        }
      ],
      "source": [
        "\n",
        "# Example of lambda function using if-else\n",
        "greater = lambda a, b : a if(a > b) else b\n",
        " \n",
        "print(greater(8, 6))"
      ]
    }
  ]
}