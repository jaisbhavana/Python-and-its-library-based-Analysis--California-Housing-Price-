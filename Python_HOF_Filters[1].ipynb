{
  "nbformat": 4,
  "nbformat_minor": 0,
  "metadata": {
    "colab": {
      "provenance": []
    },
    "kernelspec": {
      "name": "python3",
      "display_name": "Python 3"
    },
    "language_info": {
      "name": "python"
    }
  },
  "cells": [
    {
      "cell_type": "markdown",
      "metadata": {
        "id": "de8218ff"
      },
      "source": [
        "# Filters"
      ]
    },
    {
      "cell_type": "code",
      "source": [
        "#Filter take a function name and a set of values as arguments\n",
        "\n",
        "\n",
        "values = [2,3,4,5,6,7]\n",
        "\n",
        "def isEven(n):\n",
        "  if n%2==0:\n",
        "    return True\n",
        "  else :\n",
        "    return False\n",
        "\n",
        "#Without Filter\n",
        "evenNumsWithoutFilter = []\n",
        "for i in values:\n",
        "  if isEven(i):\n",
        "    evenNumsWithoutFilter.append[i]\n",
        "\n",
        "#With Filter\n",
        "evenNumbersWithFilter = filter(isEven, values)\n",
        "print(list(evenNumbersWithFilter))\n",
        "\n",
        "\n",
        "\n",
        "\n",
        "\n"
      ],
      "metadata": {
        "id": "MTqeoAK5FcOT"
      },
      "execution_count": null,
      "outputs": []
    },
    {
      "cell_type": "markdown",
      "source": [
        "#Filter with Lambda"
      ],
      "metadata": {
        "id": "ZqurtxChGyOt"
      }
    },
    {
      "cell_type": "code",
      "execution_count": null,
      "metadata": {
        "colab": {
          "base_uri": "https://localhost:8080/"
        },
        "id": "38fddea0",
        "outputId": "c126239b-a927-4d04-c401-989f51c4fbf3"
      },
      "outputs": [
        {
          "output_type": "stream",
          "name": "stdout",
          "text": [
            "[25, 65, 82]\n"
          ]
        }
      ],
      "source": [
        "# Python code to illustrate\n",
        "# filter() with lambda()\n",
        "age = [25, 65, 82, 41, 33]\n",
        " \n",
        "greater_60 = list(filter(lambda x: (x > 60) or (x < 30), age))\n",
        "print(greater_60)"
      ]
    },
    {
      "cell_type": "code",
      "execution_count": null,
      "metadata": {
        "id": "4a18f13e",
        "outputId": "62d93fba-f8e9-4670-cb1c-57edf0d9b724",
        "colab": {
          "base_uri": "https://localhost:8080/"
        }
      },
      "outputs": [
        {
          "output_type": "execute_result",
          "data": {
            "text/plain": [
              "3"
            ]
          },
          "metadata": {},
          "execution_count": 2
        }
      ],
      "source": [
        "len(greater_60)"
      ]
    },
    {
      "cell_type": "code",
      "source": [
        "gender = [\"M\", \"F\", \"F\", \"M\"]"
      ],
      "metadata": {
        "id": "9MZ_s9dOegNt"
      },
      "execution_count": null,
      "outputs": []
    },
    {
      "cell_type": "code",
      "execution_count": null,
      "metadata": {
        "id": "2e9f40d3"
      },
      "outputs": [],
      "source": [
        "# Python code to illustrate\n",
        "# filter() with lambda()\n",
        "\n",
        "Male = list(filter(lambda x: (x == \"M\"), gender))\n",
        "print(Male)"
      ]
    }
  ]
}