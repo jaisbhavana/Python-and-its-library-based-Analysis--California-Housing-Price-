{
  "nbformat": 4,
  "nbformat_minor": 0,
  "metadata": {
    "colab": {
      "provenance": []
    },
    "kernelspec": {
      "name": "python3",
      "display_name": "Python 3"
    },
    "language_info": {
      "name": "python"
    }
  },
  "cells": [
    {
      "cell_type": "markdown",
      "source": [
        "#Map"
      ],
      "metadata": {
        "id": "eaxzZDDgGJuq"
      }
    },
    {
      "cell_type": "code",
      "source": [
        "#Map takes a function as argument and passes each element as a parameter to that function\n",
        "\n",
        "students = [\n",
        "     {\n",
        "        \"gender\" : \"m\",\n",
        "        \"age\" : 20,\n",
        "      \n",
        "    },\n",
        "       {\n",
        "        \"gender\" : \"f\",\n",
        "        \"age\" : 21\n",
        "    }\n",
        "    ,    \n",
        "    {\n",
        "        \"gender\" : \"m\",\n",
        "        \"age\" : 22\n",
        "    }\n",
        "]\n",
        "\n",
        "def isMale(n):\n",
        "  if n[\"gender\"]  == \"m\" :\n",
        "    return True\n",
        "\n",
        "def addFive(n):\n",
        "  return n[\"age\"]+5\n",
        "  \n",
        "\n",
        "# maleStudents = filter(isMale, students)\n",
        "studentsAge = map(addFive, students)\n",
        "\n",
        "for student in studentsAge:\n",
        "  print(student)"
      ],
      "metadata": {
        "id": "8ZptcuGyGQHF"
      },
      "execution_count": null,
      "outputs": []
    },
    {
      "cell_type": "markdown",
      "source": [
        "#**Higher order functions**\n",
        "\n",
        "-Higher Order Functions contains other functions as a parameter or returns a function as an output \n",
        "\n",
        "-The functions that operate with another function are known as Higher order Functions."
      ],
      "metadata": {
        "id": "8DvMbBMF6AS1"
      }
    },
    {
      "cell_type": "markdown",
      "metadata": {
        "id": "043fc029"
      },
      "source": [
        "### Map with Lambda\n"
      ]
    },
    {
      "cell_type": "code",
      "execution_count": null,
      "metadata": {
        "id": "a15df66c"
      },
      "outputs": [],
      "source": [
        "# kg in pound.\n",
        "weight_pounds = [173, 152, 205, 119, 250]\n",
        " \n",
        "weight_kg = list(map(lambda x: x/2.2, weight_pounds))\n",
        "print(weight_kg)"
      ]
    },
    {
      "cell_type": "code",
      "execution_count": null,
      "metadata": {
        "id": "3e869ef4"
      },
      "outputs": [],
      "source": [
        "# kg in pound.\n",
        "weight_pounds = [173, 152, 205, 119, 250]\n",
        " \n",
        "weight_kg = list(map(lambda x: round(x/2.2, 2), weight_pounds))\n",
        "print(weight_kg)"
      ]
    },
    {
      "cell_type": "markdown",
      "metadata": {
        "id": "078232a4"
      },
      "source": [
        "### reduce()\n",
        "\n",
        "- useful when you need to apply a function to an iterable and reduce it to a single cumulative value.\n",
        "\n"
      ]
    },
    {
      "cell_type": "code",
      "execution_count": null,
      "metadata": {
        "id": "d773eb48"
      },
      "outputs": [],
      "source": [
        "# importing functools for reduce()\n",
        "import functools\n",
        " \n",
        "# initializing list\n",
        "weight_pounds = [173, 152, 205, 119, 250]\n",
        " \n",
        "# using reduce to compute maximum element from list\n",
        "print (\"The maximum element of the list is : \",end=\"\")\n",
        "print (functools.reduce(lambda a,b : a if a < b else b, weight_pounds))"
      ]
    },
    {
      "cell_type": "code",
      "source": [
        "weight_pounds = [173, 152, 205, 119, 250, 125]\n",
        "W = 0\n",
        "for i in weight_pounds:\n",
        "  if i > W:\n",
        "    W = i\n",
        "print(W)\n"
      ],
      "metadata": {
        "id": "lUi3jeDEyBzW"
      },
      "execution_count": null,
      "outputs": []
    },
    {
      "cell_type": "code",
      "source": [
        "# Count how many times a specific number is present\n",
        "list1 = [45, 52, 55, 55, 76, 76, 55, 86, 92]\n",
        "value = 55\n",
        "Count_55 = 0\n",
        "for i in list1:\n",
        "  if (list1[i] == value):\n",
        "    Count_55 = Count_55 + 1\n",
        "print(Count_55)"
      ],
      "metadata": {
        "id": "nJrqF5DYhQhK"
      },
      "execution_count": null,
      "outputs": []
    }
  ]
}