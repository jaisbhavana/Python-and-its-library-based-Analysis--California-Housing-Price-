{
  "nbformat": 4,
  "nbformat_minor": 0,
  "metadata": {
    "colab": {
      "provenance": []
    },
    "kernelspec": {
      "name": "python3",
      "display_name": "Python 3"
    },
    "language_info": {
      "name": "python"
    }
  },
  "cells": [
    {
      "cell_type": "markdown",
      "source": [
        "# Recursion\n",
        "\n",
        "- Process of defining something in terms of itself.\n",
        "\n",
        "\n",
        "##Python Recursive Function\n",
        "- A function can call other functions.\n",
        "\n",
        "- Also possible for the function to call itself. Such functions are called recursive functions.\n",
        "```\n",
        "Syntax: def functionName:\n",
        "              Statement 1\n",
        "              Statement 2\n",
        "                  .\n",
        "                  .\n",
        "              functionName()\n",
        "                   .\n",
        "                   .\n",
        "```"
      ],
      "metadata": {
        "id": "bkfTgcG6RxYT"
      }
    },
    {
      "cell_type": "code",
      "source": [
        "def func(n):        # func to return the sum of n numbers\n",
        "    total = 0\n",
        "    for index in range(n+1):\n",
        "        total += index\n",
        "\n",
        "    return total"
      ],
      "metadata": {
        "id": "MvlGcfpekzTl"
      },
      "execution_count": null,
      "outputs": []
    },
    {
      "cell_type": "code",
      "source": [
        "func(10)"
      ],
      "metadata": {
        "colab": {
          "base_uri": "https://localhost:8080/"
        },
        "id": "vn8e2h1ZUr6d",
        "outputId": "90da7129-90de-4f52-c33e-afce8dafbafe"
      },
      "execution_count": null,
      "outputs": [
        {
          "output_type": "execute_result",
          "data": {
            "text/plain": [
              "55"
            ]
          },
          "metadata": {},
          "execution_count": 2
        }
      ]
    },
    {
      "cell_type": "code",
      "source": [
        "def funcRecursive(n):  # same example using recursion\n",
        "    if n > 0:\n",
        "        return n + funcRecursive(n-1)    ##Function calling itself\n",
        "    return 0"
      ],
      "metadata": {
        "id": "Eau3NFuBk8tl"
      },
      "execution_count": null,
      "outputs": []
    },
    {
      "cell_type": "code",
      "source": [
        "funcRecursive(10)"
      ],
      "metadata": {
        "colab": {
          "base_uri": "https://localhost:8080/"
        },
        "id": "MZ-ET8N8VPGZ",
        "outputId": "f9240fc6-024b-4028-a20e-35724990a0b4"
      },
      "execution_count": null,
      "outputs": [
        {
          "output_type": "execute_result",
          "data": {
            "text/plain": [
              "55"
            ]
          },
          "metadata": {},
          "execution_count": 5
        }
      ]
    },
    {
      "cell_type": "code",
      "source": [
        "# Q Finding factorial\n",
        "\n",
        "def factorial(n):\n",
        "   if n == 1:\n",
        "       return n\n",
        "   else:\n",
        "       return n*factorial(n-1)"
      ],
      "metadata": {
        "id": "CeuLhaoNVgX1"
      },
      "execution_count": null,
      "outputs": []
    },
    {
      "cell_type": "code",
      "source": [
        "factorial(5)"
      ],
      "metadata": {
        "colab": {
          "base_uri": "https://localhost:8080/"
        },
        "id": "1dhM3OdfVy38",
        "outputId": "b2c6a171-9d2a-4561-f85f-7a2015f2f978"
      },
      "execution_count": null,
      "outputs": [
        {
          "output_type": "execute_result",
          "data": {
            "text/plain": [
              "120"
            ]
          },
          "metadata": {},
          "execution_count": 7
        }
      ]
    }
  ]
}